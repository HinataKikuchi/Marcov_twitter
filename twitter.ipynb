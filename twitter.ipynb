{
 "metadata": {
  "language_info": {
   "codemirror_mode": {
    "name": "ipython",
    "version": 3
   },
   "file_extension": ".py",
   "mimetype": "text/x-python",
   "name": "python",
   "nbconvert_exporter": "python",
   "pygments_lexer": "ipython3",
   "version": "3.8.5-final"
  },
  "orig_nbformat": 2,
  "kernelspec": {
   "name": "Python 3.8.5 32-bit",
   "display_name": "Python 3.8.5 32-bit",
   "metadata": {
    "interpreter": {
     "hash": "c6a654e7da9346571e40d3fdea3c9dc77b6e143f1bb9ad34fbd097967ccc4a26"
    }
   }
  }
 },
 "nbformat": 4,
 "nbformat_minor": 2,
 "cells": [
  {
   "cell_type": "code",
   "execution_count": 18,
   "metadata": {
    "tags": []
   },
   "outputs": [
    {
     "output_type": "stream",
     "name": "stdout",
     "text": [
      "window.YTD.tweet.part0 = [ {\n  \"tweet\" : {\n    \"retweeted\" : false,\n    \"source\" : \"<a href=\\\"http://twitter.com/download/iphone\\\" rel=\\\"nofollow\\\">\n"
     ]
    }
   ],
   "source": [
    "#自分のtwitterアカウントで申請したツイートデータ('tweet.js')を読み込む\n",
    "import json\n",
    "\n",
    "f = open('tweet.js', \"r\", encoding='utf-8_sig')\n",
    "data = f.read()\n",
    "print(data[:148])"
   ]
  },
  {
   "cell_type": "code",
   "execution_count": null,
   "metadata": {},
   "outputs": [],
   "source": []
  }
 ]
}